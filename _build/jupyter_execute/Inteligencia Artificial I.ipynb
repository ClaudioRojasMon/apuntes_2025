{
 "cells": [
  {
   "cell_type": "markdown",
   "id": "b81fef7c-04dc-4f35-aa21-8c9cbb6527cb",
   "metadata": {},
   "source": [
    "# ¿Qué es la Inteligencia Artificial?"
   ]
  },
  {
   "cell_type": "markdown",
   "id": "26944ced-d4c3-43fa-96f1-45a3ed61acb9",
   "metadata": {},
   "source": [
    "## Definición"
   ]
  },
  {
   "cell_type": "markdown",
   "id": "6a36f9b9-c879-4de5-a3ed-cee74c376629",
   "metadata": {},
   "source": [
    "\n",
    "<div align=\"justify\">La inteligencia artificial (IA en adelante), en el contexto de las ciencias de la computación, es una disciplina y un conjunto de capacidades cognoscitivas e intelectuales expresadas por sistemas informáticos o combinaciones de algoritmos cuyo propósito es la creación de máquinas que imiten la inteligencia humana para realizar tareas, y que pueden mejorar conforme recopilen información. Se hizo presente poco después de la Segunda Guerra Mundial con el desarrollo de la «prueba de Turing», mientras que la locución fue acuñada en 1956 por el informático John McCarthy en la Conferencia de Dartmouth.</div><br>\n",
    "<div align=\"justify\"> En la actualidad, la inteligencia artificial abarca una gran variedad de subcampos. Éstos van desde áreas de propósito general, aprendizaje y percepción, a otras más específicas como el reconocimiento de voz, el juego de ajedrez, la demostración de teoremas matemáticos, la escritura de poesía y el diagnóstico de enfermedades. La inteligencia artificial sintetiza y automatiza tareas que en principio son intelectuales y, por lo tanto, es potencialmente relevante para cualquier ámbito de actividades intelectuales humanas. En este sentido, es un campo genuinamente universal.</div>\n",
    "(fuente: https://es.wikipedia.org/wiki/Inteligencia_artificial)\n"
   ]
  },
  {
   "cell_type": "code",
   "execution_count": 1,
   "id": "d173cbd4-e490-4f5b-99fd-ab1b346b861d",
   "metadata": {},
   "outputs": [
    {
     "data": {
      "image/jpeg": "[encoded data removed]",
      "text/html": [
       "\n",
       "        <iframe\n",
       "            width=\"400\"\n",
       "            height=\"300\"\n",
       "            src=\"https://www.youtube.com/embed/NSf3o-wxtQ0\"\n",
       "            frameborder=\"0\"\n",
       "            allowfullscreen\n",
       "            \n",
       "        ></iframe>\n",
       "        "
      ],
      "text/plain": [
       "<IPython.lib.display.YouTubeVideo at 0x105c51890>"
      ]
     },
     "metadata": {},
     "output_type": "display_data"
    }
   ],
   "source": [
    "from IPython.display import YouTubeVideo\n",
    "\n",
    "# URL del video de YouTube\n",
    "video_id = \"NSf3o-wxtQ0\"  # Extrae solo el ID del video\n",
    "\n",
    "# Mostrar el video en Jupyter Notebook\n",
    "display(YouTubeVideo(video_id))\n"
   ]
  },
  {
   "cell_type": "markdown",
   "id": "ca4957f6-72db-4d91-9461-b872afe27b5b",
   "metadata": {},
   "source": [
    "## Algunos Hitos de la Inteligencia Artificial"
   ]
  },
  {
   "cell_type": "markdown",
   "id": "f6fdbefd-ed6b-43c6-a9bb-bfef63a9e963",
   "metadata": {},
   "source": [
    "![Linea de Tiempo](LineaTemporalIAAlta-2.jpg)"
   ]
  },
  {
   "cell_type": "markdown",
   "id": "1bd22751-7668-4fe1-bae1-e11b4e75fe6f",
   "metadata": {},
   "source": [
    "<div align=\"justify\"><strong>1943:</strong> McCulloch presenta el <strong>primer modelo de artificial</strong>, sentándose las bases de la IA.</div>\n",
    "\n",
    "[Revisar información sobre la Neurona de McCulloch-Pitts ](https://es.wikipedia.org/wiki/Neurona_de_McCulloch-Pitts) "
   ]
  },
  {
   "cell_type": "markdown",
   "id": "cb416d21-ce80-4c4c-8289-56332b538557",
   "metadata": {},
   "source": [
    "<div align=\"justify\"><strong>1950: </strong> Alan Turing propone el <strong>Test de Turing</strong> para evaluar la inteligencia de las máquinas.</div> \n",
    "\n",
    "[Revisar información del Test de Turing](https://www.santanderopenacademy.com/es/blog/test-de-turing.html)"
   ]
  },
  {
   "cell_type": "markdown",
   "id": "3697e47e-6232-465b-83c4-01e97d255578",
   "metadata": {},
   "source": [
    "<div align=\"justify\"><strong>1956: </strong> En la Conferencia de Darmouth,  John McCarthy acuña el concepto de <strong>Inteligencia Artificial</strong>.</div>\n",
    "\n",
    "[Revisar información de la Conferencia de Darmouth](https://www.santanderopenacademy.com/es/blog/test-de-turing.html)\n"
   ]
  },
  {
   "cell_type": "markdown",
   "id": "76aafe5c-4f45-459a-8391-a0a6582e689d",
   "metadata": {},
   "source": [
    "<div align=\"justify\"><strong>1959: </strong>Arthur Samuel popularizó el concepto <strong>\"Aprendizaje automatico o Machine Learning\"</strong>.</div>\n",
    "\n",
    "[Revisar información sobre Arthur Samuel](https://en.wikipedia.org/wiki/Arthur_Samuel_(computer_scientist))\n",
    "\n"
   ]
  },
  {
   "cell_type": "markdown",
   "id": "f7da8b3f-fdc1-4224-b6d2-0abb97237c0e",
   "metadata": {},
   "source": [
    "<div align=\"justify\"><strong>1966: </strong> Primer programa de procesamiento de Lenguaje Natural creado para la comunicacion entre humanos y máquinas.</div>\n",
    "\n",
    "[Breve Historia del Procesamiento de Lenguaje Natural](https://en.wikipedia.org/wiki/Arthur_Samuel_(computer_scientist))"
   ]
  },
  {
   "cell_type": "markdown",
   "id": "c03894f2-04f6-4fab-b0d7-2b094661a43f",
   "metadata": {},
   "source": [
    "<div align=\"justify\"><strong>1970- 1980:</strong> Comienza el desarrollo de los sistemas expertos que emulan el conocimiento humano en campos especificos.</div>\n",
    "\n",
    "[MYCIN: un ejemplo de sistema experto](https://telefonicatech.com/blog/mycin-el-comienzo-de-la-inteligencia)"
   ]
  },
  {
   "cell_type": "markdown",
   "id": "cc5cd847-bdee-4589-9963-2f738c562fc6",
   "metadata": {},
   "source": [
    "<div align=\"justify\"><strong>1997: </strong> La Supercomputadora <strong>Deep Blue</strong> de IBM vence al campeón mundial de ajedrez, Garry Kasparov.</div>\n",
    "\n",
    "[Revisar información sobre el juego entre Deep Blue y kasparov](https://elordenmundial.com/hoy-en-la-historia/11-mayo/11-de-mayo-de-1997-el-ordenador-deep-blue-vence-al-campeon-mundial-de-ajedrez-garri-kasparov/)\n",
    "\n"
   ]
  },
  {
   "cell_type": "markdown",
   "id": "e8ca65e2-8935-4f24-88b5-a68842688766",
   "metadata": {},
   "source": [
    "<div align=\"justify\"><strong>2006: </strong>Google Translate fue lanzado por primera vez como un servicio en línea.</div>\n",
    "\n",
    "[La historia de Google Translate](https://translatepress-com.translate.goog/history-of-google-translate/?_x_tr_sl=en&_x_tr_tl=es&_x_tr_hl=es&_x_tr_pto=tc)\n",
    "\n"
   ]
  },
  {
   "cell_type": "markdown",
   "id": "b15aaf83-db77-4f92-9846-67a85b538535",
   "metadata": {},
   "source": [
    "<div align=\"justify\"><strong>2007: </strong> Primer manipulador robótico: sistema quirúrgico Da Vinci que es capaz de realizar cirugías.</div>\n",
    "\n",
    "[Orígenes de la Cirugía Robótica](https://pmc-ncbi-nlm-nih-gov.translate.goog/articles/PMC6261744/?_x_tr_sl=en&_x_tr_tl=es&_x_tr_hl=es&_x_tr_pto=tc)"
   ]
  },
  {
   "cell_type": "markdown",
   "id": "56834285-be74-46f7-9f4e-08cef9de25c6",
   "metadata": {},
   "source": [
    "<div align=\"justify\"><strong>2014: </strong> Microsoft lanza Kinect para Xbox 360, un dispositivo de detección de movimiento. </div>\n",
    "\n",
    "[La historia de Kinect](https://es.wikipedia.org/wiki/Kinect)"
   ]
  },
  {
   "cell_type": "markdown",
   "id": "05b487ef-b647-45d2-96d0-13a4809dc471",
   "metadata": {},
   "source": [
    "<div align=\"justify\"><strong>2018: </strong> Lanzamiento de ChatGPT-2. OpenAI la segunda versión de su modelo de lenguaje generativo pre-entrenado.</div>\n",
    "\n",
    "[La historia de ChatGPT-2](https://forum-effectivealtruism-org.translate.goog/posts/5mADSy8tNwtsmT3KG/the-true-story-of-how-gpt-2-became-maximally-lewd-1?_x_tr_sl=en&_x_tr_tl=es&_x_tr_hl=es&_x_tr_pto=tc)"
   ]
  },
  {
   "cell_type": "markdown",
   "id": "95dd5ac4-b4cd-4a31-87d3-f641cd1090be",
   "metadata": {},
   "source": [
    "<div align=\"justify\"><strong>2021: </strong> La UNESCO emite el primer documento sobre recomendaciones para el uso ético de la inteligencia artificial. </div>\n",
    "\n",
    "[Revisar el documento de la UNESCO](https://www.unesco.org/es/legal-affairs/recommendation-ethics-artificial-intelligence)"
   ]
  },
  {
   "cell_type": "markdown",
   "id": "d2a9c617-084f-4bfc-8a80-cf59ec5f3e37",
   "metadata": {},
   "source": [
    "<div align=\"justify\"><strong>2023: </strong> Lanzamiento de ChatGpt4, LLAma, Copilot,\n",
    "Se Populariza la IA Generativa. </div>\n",
    "\n",
    "[Los hitos de la IA en el 2023](https://www-pymnts-com.translate.goog/artificial-intelligence-2/2023/year-in-review-the-milestones-that-transformed-ai-in-2023/?_x_tr_sl=en&_x_tr_tl=es&_x_tr_hl=es&_x_tr_pto=wa)"
   ]
  },
  {
   "cell_type": "markdown",
   "id": "3a9bb627-c112-46ec-8e53-5a160e671b29",
   "metadata": {},
   "source": [
    "<div align=\"justify\"><strong>2025: </strong> Lanzamiento de DeepSeek, el modelo de IA Chino.</div>\n",
    "\n",
    "\n",
    "[DeepSeek](https://es.weforum.org/stories/2025/02/deepseek-sacude-el-sector-de-la-ia-y-otras-noticias-sobre-tecnologia-digital/)"
   ]
  },
  {
   "cell_type": "code",
   "execution_count": null,
   "id": "0feb0ae9-c507-4ff1-aea9-97b6d5f25ae3",
   "metadata": {},
   "outputs": [],
   "source": []
  }
 ],
 "metadata": {
  "kernelspec": {
   "display_name": "Python 3",
   "language": "python",
   "name": "python3"
  },
  "language_info": {
   "codemirror_mode": {
    "name": "ipython",
    "version": 3
   },
   "file_extension": ".py",
   "mimetype": "text/x-python",
   "name": "python",
   "nbconvert_exporter": "python",
   "pygments_lexer": "ipython3",
   "version": "3.11.5"
  }
 },
 "nbformat": 4,
 "nbformat_minor": 5
}
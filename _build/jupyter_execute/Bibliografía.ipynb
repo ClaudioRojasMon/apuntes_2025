{
 "cells": [
  {
   "cell_type": "markdown",
   "id": "9be78fb7-3f98-4dad-a60e-386b43fd3f4a",
   "metadata": {},
   "source": [
    "# Bibliografía"
   ]
  },
  {
   "cell_type": "code",
   "execution_count": 1,
   "id": "b5133022-cef9-4b49-a04b-41e1728d8b6c",
   "metadata": {},
   "outputs": [
    {
     "ename": "SyntaxError",
     "evalue": "invalid syntax (1213531129.py, line 1)",
     "output_type": "error",
     "traceback": [
      "\u001b[0;36m  Cell \u001b[0;32mIn[1], line 1\u001b[0;36m\u001b[0m\n\u001b[0;31m    https://www.uautonoma.cl/centro-de-comunicacion-de-las-ciencias/alejandria/historia-de-la-ia/\u001b[0m\n\u001b[0m          ^\u001b[0m\n\u001b[0;31mSyntaxError\u001b[0m\u001b[0;31m:\u001b[0m invalid syntax\n"
     ]
    }
   ],
   "source": [
    "https://www.uautonoma.cl/centro-de-comunicacion-de-las-ciencias/alejandria/historia-de-la-ia/"
   ]
  },
  {
   "cell_type": "code",
   "execution_count": null,
   "id": "f6b3b479-bccc-4a95-8e95-ee507f571bbb",
   "metadata": {},
   "outputs": [],
   "source": [
    "https://www.microsiervos.com/archivo/ia/una-linea-temporal-inteligencia-artificial.html"
   ]
  }
 ],
 "metadata": {
  "kernelspec": {
   "display_name": "Python 3",
   "language": "python",
   "name": "python3"
  },
  "language_info": {
   "codemirror_mode": {
    "name": "ipython",
    "version": 3
   },
   "file_extension": ".py",
   "mimetype": "text/x-python",
   "name": "python",
   "nbconvert_exporter": "python",
   "pygments_lexer": "ipython3",
   "version": "3.11.5"
  }
 },
 "nbformat": 4,
 "nbformat_minor": 5
}
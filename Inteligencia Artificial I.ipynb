{
 "cells": [
  {
   "cell_type": "markdown",
   "id": "0",
   "metadata": {},
   "source": [
    "# ¿Qué es la Inteligencia Artificial?"
   ]
  },
  {
   "cell_type": "markdown",
   "id": "1",
   "metadata": {},
   "source": [
    "## Definición"
   ]
  },
  {
   "cell_type": "markdown",
   "id": "2",
   "metadata": {},
   "source": [
    "\n",
    "<div align=\"justify\">La inteligencia artificial (IA en adelante), en el contexto de las ciencias de la computación, es una disciplina y un conjunto de capacidades cognoscitivas e intelectuales expresadas por sistemas informáticos o combinaciones de algoritmos cuyo propósito es la creación de máquinas que imiten la inteligencia humana para realizar tareas, y que pueden mejorar conforme recopilen información. Se hizo presente poco después de la Segunda Guerra Mundial con el desarrollo de la «prueba de Turing», mientras que la locución fue acuñada en 1956 por el informático John McCarthy en la Conferencia de Dartmouth.</div><br>\n",
    "<div align=\"justify\"> En la actualidad, la inteligencia artificial abarca una gran variedad de subcampos. Éstos van desde áreas de propósito general, aprendizaje y percepción, a otras más específicas como el reconocimiento de voz, el juego de ajedrez, la demostración de teoremas matemáticos, la escritura de poesía y el diagnóstico de enfermedades. La inteligencia artificial sintetiza y automatiza tareas que en principio son intelectuales y, por lo tanto, es potencialmente relevante para cualquier ámbito de actividades intelectuales humanas. En este sentido, es un campo genuinamente universal.</div>\n",
    "(fuente: https://es.wikipedia.org/wiki/Inteligencia_artificial)\n"
   ]
  },
  {
   "cell_type": "code",
   "execution_count": null,
   "id": "3",
   "metadata": {},
   "outputs": [],
   "source": [
    "from IPython.display import YouTubeVideo\n",
    "\n",
    "# URL del video de YouTube\n",
    "video_id = \"NSf3o-wxtQ0\"  # Extrae solo el ID del video\n",
    "\n",
    "# Mostrar el video en Jupyter Notebook\n",
    "display(YouTubeVideo(video_id))\n"
   ]
  },
  {
   "cell_type": "markdown",
   "id": "4",
   "metadata": {},
   "source": [
    "## Algunos Hitos de la Inteligencia Artificial"
   ]
  },
  {
   "cell_type": "markdown",
   "id": "5",
   "metadata": {},
   "source": [
    "![Linea de Tiempo](LineaTemporalIAAlta-2.jpg)"
   ]
  },
  {
   "cell_type": "markdown",
   "id": "6",
   "metadata": {},
   "source": [
    "<div align=\"justify\"><strong>1943:</strong> McCulloch presenta el <strong>primer modelo de artificial</strong>, sentándose las bases de la IA.</div>\n",
    "\n",
    "[Revisar información sobre la Neurona de McCulloch-Pitts ](https://es.wikipedia.org/wiki/Neurona_de_McCulloch-Pitts) "
   ]
  },
  {
   "cell_type": "markdown",
   "id": "7",
   "metadata": {},
   "source": [
    "<div align=\"justify\"><strong>1950: </strong> Alan Turing propone el <strong>Test de Turing</strong> para evaluar la inteligencia de las máquinas.</div> \n",
    "\n",
    "[Revisar información del Test de Turing](https://www.santanderopenacademy.com/es/blog/test-de-turing.html)"
   ]
  },
  {
   "cell_type": "markdown",
   "id": "8",
   "metadata": {},
   "source": [
    "<div align=\"justify\"><strong>1956: </strong> En la Conferencia de Darmouth,  John McCarthy acuña el concepto de <strong>Inteligencia Artificial</strong>.</div>\n",
    "\n",
    "[Revisar información de la Conferencia de Darmouth](https://www.santanderopenacademy.com/es/blog/test-de-turing.html)\n"
   ]
  },
  {
   "cell_type": "markdown",
   "id": "9",
   "metadata": {},
   "source": [
    "<div align=\"justify\"><strong>1959: </strong>Arthur Samuel popularizó el concepto <strong>\"Aprendizaje automatico o Machine Learning\"</strong>.</div>\n",
    "\n",
    "[Revisar información sobre Arthur Samuel](https://en.wikipedia.org/wiki/Arthur_Samuel_(computer_scientist))\n",
    "\n"
   ]
  },
  {
   "cell_type": "markdown",
   "id": "10",
   "metadata": {},
   "source": [
    "<div align=\"justify\"><strong>1966: </strong> Primer programa de procesamiento de Lenguaje Natural creado para la comunicacion entre humanos y máquinas.</div>\n",
    "\n",
    "[Breve Historia del Procesamiento de Lenguaje Natural](https://en.wikipedia.org/wiki/Arthur_Samuel_(computer_scientist))"
   ]
  },
  {
   "cell_type": "markdown",
   "id": "11",
   "metadata": {},
   "source": [
    "<div align=\"justify\"><strong>1970- 1980:</strong> Comienza el desarrollo de los sistemas expertos que emulan el conocimiento humano en campos especificos.</div>\n",
    "\n",
    "[MYCIN: un ejemplo de sistema experto](https://telefonicatech.com/blog/mycin-el-comienzo-de-la-inteligencia)"
   ]
  },
  {
   "cell_type": "markdown",
   "id": "12",
   "metadata": {},
   "source": [
    "<div align=\"justify\"><strong>1997: </strong> La Supercomputadora <strong>Deep Blue</strong> de IBM vence al campeón mundial de ajedrez, Garry Kasparov.</div>\n",
    "\n",
    "[Revisar información sobre el juego entre Deep Blue y kasparov](https://elordenmundial.com/hoy-en-la-historia/11-mayo/11-de-mayo-de-1997-el-ordenador-deep-blue-vence-al-campeon-mundial-de-ajedrez-garri-kasparov/)\n",
    "\n"
   ]
  },
  {
   "cell_type": "markdown",
   "id": "13",
   "metadata": {},
   "source": [
    "<div align=\"justify\"><strong>2006: </strong>Google Translate fue lanzado por primera vez como un servicio en línea.</div>\n",
    "\n",
    "[La historia de Google Translate](https://translatepress-com.translate.goog/history-of-google-translate/?_x_tr_sl=en&_x_tr_tl=es&_x_tr_hl=es&_x_tr_pto=tc)\n",
    "\n"
   ]
  },
  {
   "cell_type": "markdown",
   "id": "14",
   "metadata": {},
   "source": [
    "<div align=\"justify\"><strong>2007: </strong> Primer manipulador robótico: sistema quirúrgico Da Vinci que es capaz de realizar cirugías.</div>\n",
    "\n",
    "[Orígenes de la Cirugía Robótica](https://pmc-ncbi-nlm-nih-gov.translate.goog/articles/PMC6261744/?_x_tr_sl=en&_x_tr_tl=es&_x_tr_hl=es&_x_tr_pto=tc)"
   ]
  },
  {
   "cell_type": "markdown",
   "id": "15",
   "metadata": {},
   "source": [
    "<div align=\"justify\"><strong>2014: </strong> Microsoft lanza Kinect para Xbox 360, un dispositivo de detección de movimiento. </div>\n",
    "\n",
    "[La historia de Kinect](https://es.wikipedia.org/wiki/Kinect)"
   ]
  },
  {
   "cell_type": "markdown",
   "id": "16",
   "metadata": {},
   "source": [
    "<div align=\"justify\"><strong>2018: </strong> Lanzamiento de ChatGPT-2. OpenAI la segunda versión de su modelo de lenguaje generativo pre-entrenado.</div>\n",
    "\n",
    "[La historia de ChatGPT-2](https://forum-effectivealtruism-org.translate.goog/posts/5mADSy8tNwtsmT3KG/the-true-story-of-how-gpt-2-became-maximally-lewd-1?_x_tr_sl=en&_x_tr_tl=es&_x_tr_hl=es&_x_tr_pto=tc)"
   ]
  },
  {
   "cell_type": "markdown",
   "id": "17",
   "metadata": {},
   "source": [
    "<div align=\"justify\"><strong>2021: </strong> La UNESCO emite el primer documento sobre recomendaciones para el uso ético de la inteligencia artificial. </div>\n",
    "\n",
    "[Revisar el documento de la UNESCO](https://www.unesco.org/es/legal-affairs/recommendation-ethics-artificial-intelligence)"
   ]
  },
  {
   "cell_type": "markdown",
   "id": "18",
   "metadata": {},
   "source": [
    "<div align=\"justify\"><strong>2023: </strong> Lanzamiento de ChatGpt4, LLAma, Copilot,\n",
    "Se Populariza la IA Generativa. </div>\n",
    "\n",
    "[Los hitos de la IA en el 2023](https://www-pymnts-com.translate.goog/artificial-intelligence-2/2023/year-in-review-the-milestones-that-transformed-ai-in-2023/?_x_tr_sl=en&_x_tr_tl=es&_x_tr_hl=es&_x_tr_pto=wa)"
   ]
  },
  {
   "cell_type": "markdown",
   "id": "19",
   "metadata": {},
   "source": [
    "<div align=\"justify\"><strong>2025: </strong> Lanzamiento de DeepSeek, el modelo de IA Chino.</div>\n",
    "\n",
    "\n",
    "[DeepSeek](https://es.weforum.org/stories/2025/02/deepseek-sacude-el-sector-de-la-ia-y-otras-noticias-sobre-tecnologia-digital/)"
   ]
  },
  {
   "cell_type": "code",
   "execution_count": null,
   "id": "20",
   "metadata": {},
   "outputs": [],
   "source": []
  }
 ],
 "metadata": {
  "kernelspec": {
   "display_name": "Python 3",
   "language": "python",
   "name": "python3"
  },
  "language_info": {
   "codemirror_mode": {
    "name": "ipython",
    "version": 3
   },
   "file_extension": ".py",
   "mimetype": "text/x-python",
   "name": "python",
   "nbconvert_exporter": "python",
   "pygments_lexer": "ipython3",
   "version": "3.8.18"
  }
 },
 "nbformat": 4,
 "nbformat_minor": 5
}

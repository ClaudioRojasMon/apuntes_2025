{
 "cells": [
  {
   "cell_type": "code",
   "execution_count": null,
   "id": "8138f889-c72b-4f8e-9084-fdaf2b23c994",
   "metadata": {},
   "outputs": [],
   "source": [
    "# Bibliografía"
   ]
  },
  {
   "cell_type": "code",
   "execution_count": null,
   "id": "b5133022-cef9-4b49-a04b-41e1728d8b6c",
   "metadata": {},
   "outputs": [],
   "source": [
    "https://www.uautonoma.cl/centro-de-comunicacion-de-las-ciencias/alejandria/historia-de-la-ia/"
   ]
  },
  {
   "cell_type": "code",
   "execution_count": null,
   "id": "f6b3b479-bccc-4a95-8e95-ee507f571bbb",
   "metadata": {},
   "outputs": [],
   "source": [
    "https://www.microsiervos.com/archivo/ia/una-linea-temporal-inteligencia-artificial.html"
   ]
  }
 ],
 "metadata": {
  "kernelspec": {
   "display_name": "Python 3",
   "language": "python",
   "name": "python3"
  },
  "language_info": {
   "codemirror_mode": {
    "name": "ipython",
    "version": 3
   },
   "file_extension": ".py",
   "mimetype": "text/x-python",
   "name": "python",
   "nbconvert_exporter": "python",
   "pygments_lexer": "ipython3",
   "version": "3.8.18"
  }
 },
 "nbformat": 4,
 "nbformat_minor": 5
}

{
 "cells": [
  {
   "cell_type": "markdown",
   "id": "8d6db6ba-b442-4fd0-8396-67fc83e155ad",
   "metadata": {},
   "source": [
    "# Inteligencia Artificial II"
   ]
  },
  {
   "cell_type": "markdown",
   "id": "11c6888c-3d91-400e-8f5d-163e88e97de9",
   "metadata": {},
   "source": [
    "## ¿Qué es la Inteligencia Artificial Fuerte?"
   ]
  },
  {
   "cell_type": "markdown",
   "id": "cdc5e73b-7cba-4490-825c-b38cc932a0c7",
   "metadata": {},
   "source": [
    "```{admonition}\n",
    "<div align=\"justify\"><strong>La inteligencia artificial (IA) fuerte<strong>, también conocida como <strong>inteligencia artificial general (AGI) o IA general<strong>, es una forma teórica de IA empleada para describir una determinada mentalidad de desarrollo de IA.</div><br>\n",
    "\n",
    "<div align=\"justify\">La IA fuerte tiene como objetivo crear máquinas inteligentes que sean indistinguibles de la mente humana. Pero, al igual que un niño, la máquina de IA tendría que aprender a través de entradas y experiencias, progresando constantemente y mejorando sus habilidades con el tiempo. Los vehículos autónomos son ejemplos de la IA fuerte. </div><br>\n",
    "\n",
    "[Fuente](https://www.ibm.com/mx-es/topics/strong-ai) \n",
    "```"
   ]
  },
  {
   "cell_type": "markdown",
   "id": "ca398797-3662-425d-b73d-b7df74ac1155",
   "metadata": {},
   "source": [
    "## ¿Qué es la Inteligencia Artificial Débil?"
   ]
  },
  {
   "cell_type": "markdown",
   "id": "55c59bd6-b7a8-482d-8a27-ee1bb2ea4c5d",
   "metadata": {},
   "source": [
    "```{admonition}\n",
    "<div align=\"justify\"><strong>La inteligencia artificial débil<strong>, es un término que describe sistemas de IA diseñados para realizar tareas específicas y que no poseen consciencia o inteligencia general como los humanos.</div><br>\n",
    "\n",
    "<div align=\"justify\">Estos sistemas están programados para operar dentro de un conjunto limitado de parámetros y reglas, enfocándose en ejecutar una tarea concreta de manera eficiente. La IA Débil se centra en ser práctica y funcional sin la necesidad de comprender o interpretar el mundo en su totalidad.</div><br>\n",
    "\n",
    "<div align=\"justify\">Algunos ejemplos son: Chatbots, Filtros de Spam, Software de reconocimiento facial.</div><br>\n",
    "\n",
    "[Fuente](https://www.victormolla.com/que-es-la-ia-debil) \n",
    "\n",
    "```"
   ]
  },
  {
   "cell_type": "code",
   "execution_count": 6,
   "id": "f4720d17-8924-492d-b03f-6ce278ac3dc2",
   "metadata": {},
   "outputs": [
    {
     "data": {
      "text/html": [
       "\n",
       "        <iframe\n",
       "            width=\"400\"\n",
       "            height=\"300\"\n",
       "            src=\"https://www.youtube.com/embed/sw8LN2UaNbI?si=-Qy_b5Z3z3x4DhAF\"\n",
       "            frameborder=\"0\"\n",
       "            allowfullscreen\n",
       "            \n",
       "        ></iframe>\n",
       "        "
      ],
      "text/plain": [
       "<IPython.lib.display.YouTubeVideo at 0x116f32c50>"
      ]
     },
     "metadata": {},
     "output_type": "display_data"
    }
   ],
   "source": [
    "from IPython.display import YouTubeVideo\n",
    "\n",
    "# URL del video de YouTube\n",
    "video_id = \"sw8LN2UaNbI?si=-Qy_b5Z3z3x4DhAF\"  # Extrae solo el ID del video\n",
    "\n",
    "# Mostrar el video en Jupyter Notebook\n",
    "display(YouTubeVideo(video_id))\n",
    "\n"
   ]
  },
  {
   "cell_type": "code",
   "execution_count": null,
   "id": "afde3a6e-1dee-4394-b9a9-ac71f06bb37a",
   "metadata": {},
   "outputs": [],
   "source": []
  }
 ],
 "metadata": {
  "kernelspec": {
   "display_name": "Python [conda env:base] *",
   "language": "python",
   "name": "conda-base-py"
  },
  "language_info": {
   "codemirror_mode": {
    "name": "ipython",
    "version": 3
   },
   "file_extension": ".py",
   "mimetype": "text/x-python",
   "name": "python",
   "nbconvert_exporter": "python",
   "pygments_lexer": "ipython3",
   "version": "3.11.5"
  }
 },
 "nbformat": 4,
 "nbformat_minor": 5
}

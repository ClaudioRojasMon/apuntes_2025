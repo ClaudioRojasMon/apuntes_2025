{
 "cells": [
  {
   "cell_type": "markdown",
   "id": "0",
   "metadata": {},
   "source": [
    "# Inteligencia Artificial Generativa"
   ]
  },
  {
   "cell_type": "markdown",
   "id": "1",
   "metadata": {},
   "source": [
    "## ¿Qué es la Inteligencia Artificial Generativa?"
   ]
  },
  {
   "cell_type": "markdown",
   "id": "2",
   "metadata": {},
   "source": [
    "\n",
    "<div align=\"justify\"><strong>La IA generativa o gen AI<strong>, es inteligencia artificial que puede crear contenido original, como texto, imágenes, video, audio o código de software, en respuesta a una instrucción o solicitud de un usuario. La IA generativa se basa en sofisticados modelos de aprendizaje automático llamados modelos de aprendizaje profundo.</div><br>\n",
    "\n",
    "<div align=\"justify\">Estos algoritmos simulan los procesos de aprendizaje y la toma de decisiones del cerebro humano, funcionan mediante la identificación y programación de los patrones y relaciones en grandes cantidades de datos, y luego usan esa información para comprender las solicitudes o preguntas del lenguaje natural de los usuarios y responder con nuevo contenido relevante.</div><br>\n",
    "[Fuente](https://www.ibm.com/mx-es/topics/generative-ai) \n"
   ]
  },
  {
   "cell_type": "markdown",
   "id": "3",
   "metadata": {},
   "source": [
    "```{admonition} \n",
    "<div align=\"justify\"><strong>La IA generativa o gen AI<strong>, es inteligencia artificial que puede crear contenido original, como texto, imágenes, video, audio o código de software, en respuesta a una instrucción o solicitud de un usuario. La IA generativa se basa en sofisticados modelos de aprendizaje automático llamados modelos de aprendizaje profundo.</div><br>\n",
    "\n",
    "<div align=\"justify\">Estos algoritmos simulan los procesos de aprendizaje y la toma de decisiones del cerebro humano, funcionan mediante la identificación y programación de los patrones y relaciones en grandes cantidades de datos, y luego usan esa información para comprender las solicitudes o preguntas del lenguaje natural de los usuarios y responder con nuevo contenido relevante.</div><br>\n",
    "[Fuente](https://www.ibm.com/mx-es/topics/generative-ai) \n",
    "```"
   ]
  },
  {
   "cell_type": "code",
   "execution_count": null,
   "id": "4",
   "metadata": {},
   "outputs": [],
   "source": [
    "from IPython.display import YouTubeVideo\n",
    "\n",
    "# URL del video de YouTube\n",
    "video_id = \"n0glDYm2ZE0\"  # Extrae solo el ID del video\n",
    "\n",
    "# Mostrar el video en Jupyter Notebook\n",
    "display(YouTubeVideo(video_id))\n"
   ]
  },
  {
   "cell_type": "markdown",
   "id": "5",
   "metadata": {},
   "source": [
    "## Algunos Casos de Uso de la IA Generativa "
   ]
  },
  {
   "cell_type": "markdown",
   "id": "6",
   "metadata": {},
   "source": [
    "| Lenguage | Visual| Audio |\n",
    "|:----------:|:----------:|:----------:|\n",
    "| Tomar Notas| Generación de Video| Generación Musical  |\n",
    "| Secuenciados Genetica | Modelo 3D| Generación de Voz |\n",
    "| Desarrollo de Códigos | Diseño   |  |\n",
    "| Generación de Artículos| Generacion de Imágenes |\n",
    "\n",
    "\n",
    "\n",
    "[Fuente](https://www.nvidia.com/en-us/glossary/generative-ai/)"
   ]
  },
  {
   "cell_type": "markdown",
   "id": "7",
   "metadata": {},
   "source": [
    "## Directorios de Herramientas de Inteligencia Artificial"
   ]
  },
  {
   "cell_type": "markdown",
   "id": "8",
   "metadata": {},
   "source": [
    "\n",
    "- [AIFINDY ](https://aifindy.com)\n",
    "- [SobreIA ](https://www.sobreia.com/herramientas)\n",
    "- [FutureTools](https://www.futuretools.io)\n",
    "- [AThere's an AI for That](https://theresanaiforthat.com)\n",
    "- [AI Tools Directory](https://aitoolsdirectory.com)\n",
    "- [Futurepedia](https://www.futurepedia.io)\n",
    "- [Insidr](https://www.insidr.ai/ai-tools/)\n",
    "- [AI Scout](https://aiscout.net/?post_type=hp_listing&s=help+with+phd+thesis+paper+research&_category=)\n",
    "\n"
   ]
  },
  {
   "cell_type": "markdown",
   "id": "9",
   "metadata": {},
   "source": []
  }
 ],
 "metadata": {
  "kernelspec": {
   "display_name": "Python 3",
   "language": "python",
   "name": "python3"
  },
  "language_info": {
   "codemirror_mode": {
    "name": "ipython",
    "version": 3
   },
   "file_extension": ".py",
   "mimetype": "text/x-python",
   "name": "python",
   "nbconvert_exporter": "python",
   "pygments_lexer": "ipython3",
   "version": "3.8.18"
  }
 },
 "nbformat": 4,
 "nbformat_minor": 5
}

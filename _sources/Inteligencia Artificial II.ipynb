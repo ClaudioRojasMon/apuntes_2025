{
 "cells": [
  {
   "cell_type": "markdown",
   "id": "0",
   "metadata": {},
   "source": [
    "# Inteligencia Artificial II"
   ]
  },
  {
   "cell_type": "markdown",
   "id": "1",
   "metadata": {},
   "source": [
    "## ¿Qué es la Inteligencia Artificial Fuerte?"
   ]
  },
  {
   "cell_type": "markdown",
   "id": "2",
   "metadata": {},
   "source": [
    "\n",
    "<div align=\"justify\"><strong>La inteligencia artificial (IA) fuerte<strong>, también conocida como <strong>inteligencia artificial general (AGI) o IA general<strong>, es una forma teórica de IA empleada para describir una determinada mentalidad de desarrollo de IA.</div><br>\n",
    "\n",
    "<div align=\"justify\">La IA fuerte tiene como objetivo crear máquinas inteligentes que sean indistinguibles de la mente humana. Pero, al igual que un niño, la máquina de IA tendría que aprender a través de entradas y experiencias, progresando constantemente y mejorando sus habilidades con el tiempo. Los vehículos autónomos son ejemplos de la IA fuerte. </div><br>\n",
    "\n",
    "[Fuente](https://www.ibm.com/mx-es/topics/strong-ai) \n"
   ]
  },
  {
   "cell_type": "markdown",
   "id": "3",
   "metadata": {},
   "source": [
    "## ¿Qué es la Inteligencia Artificial Débil?"
   ]
  },
  {
   "cell_type": "markdown",
   "id": "4",
   "metadata": {},
   "source": [
    "\n",
    "<div align=\"justify\"><strong>La inteligencia artificial débil<strong>, es un término que describe sistemas de IA diseñados para realizar tareas específicas y que no poseen consciencia o inteligencia general como los humanos.</div><br>\n",
    "\n",
    "<div align=\"justify\">Estos sistemas están programados para operar dentro de un conjunto limitado de parámetros y reglas, enfocándose en ejecutar una tarea concreta de manera eficiente. La IA Débil se centra en ser práctica y funcional sin la necesidad de comprender o interpretar el mundo en su totalidad.</div><br>\n",
    "\n",
    "<div align=\"justify\">Algunos ejemplos son: Chatbots, Filtros de Spam, Software de reconocimiento facial.</div><br>\n",
    "\n",
    "[Fuente](https://www.victormolla.com/que-es-la-ia-debil) \n",
    "\n"
   ]
  },
  {
   "cell_type": "code",
   "execution_count": null,
   "id": "5",
   "metadata": {},
   "outputs": [],
   "source": [
    "from IPython.display import YouTubeVideo\n",
    "\n",
    "# URL del video de YouTube\n",
    "video_id = \"MgWtYXcUg9Y?si=j3VoIqpx0VUmkTLD\"  \n",
    "\n",
    "# Mostrar el video en Jupyter Notebook\n",
    "display(YouTubeVideo(video_id)) \n"
   ]
  },
  {
   "cell_type": "code",
   "execution_count": null,
   "id": "6",
   "metadata": {},
   "outputs": [],
   "source": []
  }
 ],
 "metadata": {
  "kernelspec": {
   "display_name": "Python [conda env:base] *",
   "language": "python",
   "name": "conda-base-py"
  },
  "language_info": {
   "codemirror_mode": {
    "name": "ipython",
    "version": 3
   },
   "file_extension": ".py",
   "mimetype": "text/x-python",
   "name": "python",
   "nbconvert_exporter": "python",
   "pygments_lexer": "ipython3",
   "version": "3.11.5"
  }
 },
 "nbformat": 4,
 "nbformat_minor": 5
}

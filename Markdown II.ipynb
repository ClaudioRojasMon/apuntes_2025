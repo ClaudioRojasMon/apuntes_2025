{
 "cells": [
  {
   "cell_type": "markdown",
   "id": "0f13cddd-413d-4f83-9286-1609f193fea8",
   "metadata": {},
   "source": [
    "# ¿Qué es Markdown?"
   ]
  },
  {
   "cell_type": "markdown",
   "id": "6efc5888-60c0-47b8-a31a-2ca1e0ad74d5",
   "metadata": {},
   "source": [
    "<p align=\"justify\">Es un lenguaje simple inventado por<b>John Gruber</b> en 2004 para escribir texto que se convierte en HTML bonito. Se usa en sitios como Reddit, GitHub y Jupyter Notebook.<p>"
   ]
  },
  {
   "cell_type": "markdown",
   "id": "d6382858-8d1d-4320-a821-28711e5f0219",
   "metadata": {},
   "source": [
    "<div style=\"text-align: justify;\">Además, fue desarrollado en colaboración con <b>Aaron Swartz</b>, y su principal ventaja es que el texto en Markdown es fácil de leer y escribir incluso sin renderizarlo, como si fuera texto plano.</div>"
   ]
  },
  {
   "cell_type": "markdown",
   "id": "d3605317-2139-4803-81b1-06ce67616e7e",
   "metadata": {},
   "source": [
    "<div style=\"text-align: justify;\"> Una vez que domines Markdown, podrás crear desde apuntes de clase hasta presentaciones y páginas web, todo escribiendo de forma natural. Es como tener un superpoder digital: escribes texto normal con algunos símbolos especiales, y automáticamente se transforma en algo visualmente atractivo y profesional.</div>"
   ]
  },
  {
   "cell_type": "markdown",
   "id": "2763551d-c1e0-4e6b-9942-d06a12ca0906",
   "metadata": {},
   "source": [
    "### Usa solo Markdown cuando requieras:\n",
    "\n",
    "- ✅ Que el texto sea legible incluso sin renderizar.\n",
    "- ✅ Formato básico (negritas, cursivas, listas, enlaces simples).\n",
    "- ✅  Escribir en plataformas que solo soportan Markdown estándar.\n",
    "- ✅  Simplicidad y rapidez."
   ]
  },
  {
   "cell_type": "markdown",
   "id": "3401b7f1-757e-4c18-a9cc-e05841336717",
   "metadata": {},
   "source": [
    "💡 **¿Qué es Renderizar?**: \n",
    "- Convertir el código Markdown en su versión visual final. \n",
    "- Siempre debes revisar la \"vista previa\" (versión renderizada) antes de publicar, ya que diferentes plataformas pueden renderizar el mismo Markdown de forma levemente distinta. "
   ]
  },
  {
   "cell_type": "markdown",
   "id": "ff9548cb-d6ab-4069-b89f-943e1f78a690",
   "metadata": {},
   "source": [
    "### Incorpora HTML cuando necesites:\n",
    "- ✅  Alineación de texto específica: centrado, justificado, derecha. \n",
    "- ✅  Colores o tamaños de fuente personalizados.\n",
    "- ✅  Espaciado o márgenes específicos.\n",
    "- ✅  Tablas más complejas con celdas combinadas\n",
    "- ✅  Centrar imágenes o controlar su tamaño exacto\n",
    "- ✅  Markdown puro no pueda hacer lo que necesitas\n",
    "- ✅  Control visual más preciso sobre el diseño"
   ]
  },
  {
   "cell_type": "markdown",
   "id": "9a6b5787-2af1-486b-9f39-eaf7418afab8",
   "metadata": {},
   "source": [
    "# Alineación de textos\n",
    "\n",
    "- **Texto alineado a la izquierda**: Es el modelo por defecto.\n",
    "\n",
    "<div style=\"text-align: left;\">\"Chile, fértil provincia y señalada en la región Antártica famosa de remotas naciones respetada por fuerte, principal y poderosa\".</div>\n",
    "\n",
    "\n",
    "- **Texto centrado**: Es útil para títulos o frases destacadas.\n",
    "\n",
    "<div style=\"text-align: center;\"><strong>\"Chile, fértil provincia y señalada en la región Antártica famosa, de remotas naciones respetada por fuerte, principal y poderosa\"</strong></div>\n",
    "\n",
    "\n",
    "- **Texto alineado a la derecha**: Lo usamos con menos frecuencia.\n",
    "\n",
    "<div style=\"text-align: right;\">\"Chile, fértil provincia y señalada <strong>en la región Antártica famosa</strong>, de remotas naciones respetada por fuerte, principal y poderosa\".</div>\n",
    "\n",
    "\n",
    "- **Texto justificado**: El texto se ajusta a ambos márgenes.\n",
    "\n",
    "<div style=\"text-align: justify;\">\"Chile, fértil provincia y señalada <strong>en la región Antártica famosa</strong>, de remotas naciones respetada por fuerte, principal y poderosa, la gente que produce es tan granada, tan soberbia, gallarda y belicosa, que no ha sido por rey jamás regida ni a extranjero dominio sometida\".</div>"
   ]
  },
  {
   "cell_type": "markdown",
   "id": "4a25ccd5-df25-43f6-b3a5-3363b2e51e50",
   "metadata": {},
   "source": [
    "### 📘 Ejemplos básicos de Markdown"
   ]
  },
  {
   "cell_type": "markdown",
   "id": "ef423f8e-d1a7-4550-8afe-7f76271e3512",
   "metadata": {},
   "source": [
    "### 1. Títulos\n",
    "# Título nivel 1: La Conquista de América (1492-1600)\n",
    "## Título nivel 2: Hernán Cortés y el Imperio Azteca\n",
    "### Título nivel 3: La Caída de Tenochtitlán (1521)"
   ]
  },
  {
   "cell_type": "markdown",
   "id": "083e6ece-2769-48e3-8b95-5fba6453330a",
   "metadata": {},
   "source": [
    "### 2. Negrita y cursiva\n",
    "**Bernardo O'Higgins fue el Padre de la Patria chilena.**  \n",
    "*La Batalla de Maipú se libró el 5 de abril de 1818.*  \n",
    "***Simón Bolívar fue conocido como El Libertador.***  \n",
    "~~Octavio perdió en Actium~~ (fue Marco Antonio)\n",
    "\n",
    "Ejemplo en lista:\n",
    "- [x] Cruzar los Andes con el Ejército Libertador  ~~(San Martín lo logró en 1817)~~"
   ]
  },
  {
   "cell_type": "markdown",
   "id": "fcee861a-59c5-433c-ad4d-c0975275c7fa",
   "metadata": {},
   "source": [
    "### 3. Listas\n",
    "#### Con viñetas\n",
    "#### Próceres de la Independencia de Chile\n",
    "- Bernardo O'Higgins\n",
    "- José de San Martín\n",
    "* Manuel Rodríguez\n",
    "* Javiera Carrera\n",
    "#### Numeradas\n",
    "#### Las Cruzadas (orden cronológico)\n",
    "1. Primera Cruzada (1096-1099)\n",
    "2. Segunda Cruzada (1147-1149)\n",
    "3. Tercera Cruzada (1189-1192)\n",
    "#### Lista de tareas pendientes\n",
    "#### Conquistas pendientes de Alejandro Magno\n",
    "- [x] Conquistar el Imperio Persa\n",
    "- [ ] Llegar hasta la India\n",
    "- [ ] Conquistar Arabia (murió antes)\n",
    "- [ ] Invadir el oeste hacia Cartago\n",
    "#### Lista anidadas\n",
    "#### Imperios por época\n",
    "- Mundo Antiguo\n",
    "  - Imperio Romano (27 a.C. - 476 d.C.)\n",
    "  - Imperio Chino Han (206 a.C. - 220 d.C.)\n",
    "1. Edad Media\n",
    "   1. Imperio Bizantino (330-1453)\n",
    "   2. Imperio Carolingio (800-888)"
   ]
  },
  {
   "cell_type": "markdown",
   "id": "6ad30901-dbe6-4ada-9ae8-71da2b3906b5",
   "metadata": {},
   "source": [
    "### 4. Citas\n",
    "> \"Alea iacta est\" (La suerte está echada).  \n",
    "> - Julio César al cruzar el Rubicón (49 a.C.).  "
   ]
  },
  {
   "cell_type": "markdown",
   "id": "824d009d-4695-48b1-ae2e-a254ad82e463",
   "metadata": {},
   "source": [
    "> \"Veni, vidi, vici\" (Vine, vi, vencí).  \n",
    "> Julio César tras la Batalla de Zela (47 a.C.)."
   ]
  },
  {
   "cell_type": "markdown",
   "id": "40ac3581-66a3-4ed4-93f1-bb233021e734",
   "metadata": {},
   "source": [
    "#### 5. Código\n",
    "##### En línea\n",
    "Para ejecutar un comando escribe: `print(\"Hola\")`"
   ]
  },
  {
   "cell_type": "code",
   "execution_count": 5,
   "id": "13c58ce2-3335-431f-8083-d4a619f495cd",
   "metadata": {},
   "outputs": [
    {
     "name": "stdout",
     "output_type": "stream",
     "text": [
      "Para recordar la caída de Constantinopla escribe: 29 de mayo de 1453\n",
      "Para recordar la caída de Constantinopla escribe: 29 de mayo de 1453\n"
     ]
    }
   ],
   "source": [
    "##### Bloques de código\n",
    "##### Esto es un bloque de código en Python\n",
    "for i in range(2):\n",
    "    print(\"Para recordar la caída de Constantinopla escribe: 29 de mayo de 1453\")"
   ]
  },
  {
   "cell_type": "markdown",
   "id": "0f3e2ed8-7b12-4611-b27c-e459cfd8278f",
   "metadata": {},
   "source": [
    "#### 6. Enlaces (Wwb e Imagenes)\n",
    "- [YouTube](https://youtube.com)\n",
    "- [Instagram](https://instagram.com)\n",
    "- ![Chile](https://img.shields.io/badge/Chile-Independencia_1818-red?style=for-the-badge&logo=chile&logoColor=white)"
   ]
  },
  {
   "cell_type": "markdown",
   "id": "b7bdddc3-1b68-4aab-a16c-a3693d3c7750",
   "metadata": {},
   "source": [
    "- Puedes centrarla con HTML: <p align=\"center\"><img src=\"https://img.shields.io/badge/Chile-Independencia_1818-red?style=for-the-badge&logo=chile&logoColor=white\" alt=\"Roma\" width=\"200\"></p>"
   ]
  },
  {
   "cell_type": "markdown",
   "id": "3a92b6b6-e045-482f-9266-9914f608c0bf",
   "metadata": {},
   "source": [
    "#### 7. Tablas\n",
    "\n",
    "| Faraón | Dinastía| Año de Reinado |\n",
    "| ------ | ---- | ----- |\n",
    "| Narmer    | I   | 3100 a.C. |\n",
    "| Keops   | IV   | 2589-2566 a.C.  |\n",
    "| Tutankamón  | XVIII   | 1332-1323 a.C.  |\n"
   ]
  },
  {
   "cell_type": "markdown",
   "id": "d27f4d2a-586c-41aa-9c52-ca63178ee92b",
   "metadata": {},
   "source": [
    "|Presidente| Periodo| Partido|\n",
    "|------------|-----|-------|\n",
    "|Arturo Alessandri|1920-1925|Liberal|\n",
    "|Patricio Aylwin|1990 - 1994|Democracia Cristiana|\n"
   ]
  },
  {
   "cell_type": "markdown",
   "id": "7190cb92-1f78-4b82-a5c9-5a3f9e1418b0",
   "metadata": {},
   "source": [
    "| Batalla |  Año | Ganador |Consecuencia|\n",
    "| :-------| :-------: |:-------: | ------: |\n",
    "| Maratón  | 490 a.C|Atenas | Salvo a Grecia|\n",
    "| Hastings| 1066| Normandos| Conquisto Inglaterra | \n",
    "| Waterloo| 1815| Coalicion| Fin de Napoleon |\n"
   ]
  },
  {
   "cell_type": "markdown",
   "id": "3adb8089-8362-47a1-9057-30eaa38b93f0",
   "metadata": {},
   "source": [
    "#### 8. Separación de párrafos\n",
    "👎 **Al no separar queda todo junto**:\n",
    "Al no separar queda todo junto:\n",
    "La Revolución Francesa comenzó en 1789.\n",
    "Napoleón tomó el poder en 1799.\n",
    "Fue derrotado en Waterloo en 1815."
   ]
  },
  {
   "cell_type": "markdown",
   "id": "751079f0-ae2b-4342-b3ea-f79a8ab35d7a",
   "metadata": {},
   "source": [
    "##### ✅  Usar una línea en blanco entre párrafos:\n",
    "La Revolución Francesa comenzó en 1789.\n",
    "\n",
    "Napoleón tomó el poder en 1799.\n",
    "\n",
    "Fue derrotado en Waterloo en 1815."
   ]
  },
  {
   "cell_type": "markdown",
   "id": "ec434178-1b99-4350-8e77-e7199bae2a52",
   "metadata": {},
   "source": [
    "##### ✅ Usar el siguiente comando `<br>` al final de cada párrafo que se quiera separar:\n",
    "\n",
    "\n",
    "La Revolución Francesa comenzó en 1789.<br>Napoleón tomó el poder en 1799.<br> Fue derrotado en Waterloo en 1815.."
   ]
  },
  {
   "cell_type": "markdown",
   "id": "a89ce734-1653-45a6-833c-3a2211d24b9b",
   "metadata": {},
   "source": [
    "#### 9. 📘 Ejemplos básicos de Markdown con emojis:\n",
    "\n",
    "- ⚔️ Guerras: 🏛️ Roma vs 🐘 Cartago.\n",
    "- 👑 En títulos: # Los Reyes Católicos 👑\n",
    "- 🔍 🔍 Busca símbolos históricos en  👉 [emojipedia](https://emojipedia.org)\n",
    "✅\n",
    "\n"
   ]
  },
  {
   "cell_type": "markdown",
   "id": "c3335091-b3a9-46f7-8969-154c93725c16",
   "metadata": {},
   "source": [
    "### 🛠️ Herramientas para practicar Markdown"
   ]
  },
  {
   "cell_type": "markdown",
   "id": "96d0250f-2fdb-4b05-96c4-7386660735ab",
   "metadata": {},
   "source": [
    "#### Editores online (ideales para comenzar)\n",
    "\n",
    "- 💻 [Dillinger.io](https://dillinger.io)- Editor simple con vista previa en tiempo real\n",
    "- 💻 [StackEdit](https://stackedit.io)-  Más avanzado, guarda en la nube\n",
    "- 💻 [Markdown Live Preview](https://markdownlivepreview.com) - Súper simple para práctica rápida"
   ]
  },
  {
   "cell_type": "markdown",
   "id": "eefb612b-7fe4-4a32-9a4c-e5bccbdb3688",
   "metadata": {},
   "source": [
    "#### Aplicaciones de escritorio\n",
    "\n",
    "- 💻 [Typora](https://typora.io/#feature)  Editor WYSIWYG (lo que ves es lo que obtienes)\n",
    "- 💻 [Mark Text ](https://marktext.app) - Gratuito y de código abierto\n",
    "- 💻 [Obsidian](https://obsidian.md) - Para tomar notas con Markdown"
   ]
  },
  {
   "cell_type": "markdown",
   "id": "fc573789-c110-44ef-aaf8-682eae7b32f0",
   "metadata": {},
   "source": [
    "#### Recursos adicionales\n",
    "\n",
    "- 🔗 [Markdown Guide](https://www.markdownguide.org): Referencia completa\n",
    "- ⚙️ [GitHub Flavored Markdown](https://docs.github.com/es/get-started/writing-on-github/getting-started-with-writing-and-formatting-on-github/basic-writing-and-formatting-syntax): Variante de GitHub\n",
    "- 📜  [CommonMark](https://commonmark.org): Especificación estándar"
   ]
  },
  {
   "cell_type": "markdown",
   "id": "26f7c7f7-7f5a-409a-a2a2-204b44722550",
   "metadata": {},
   "source": [
    "### Ejercicios para practicar. \n",
    "\n",
    "Elige dos de estas opciones y profundiza en el uso de markdown.\n",
    "\n",
    "* 🏛️ Civilización antigua: Egipto, Roma, Grecia. Usa títulos, tablas de faraones/emperadores, enlaces a museos.. \n",
    "* ⚔️ Batalla histórica: Describe Maipú, Waterloo, Stalingrado. Practica con mapas, cronologías, listas de consecuencias.. \n",
    "* 👑 Biografía de personaje: Napoleón, Cleopatra, O'Higgins. Usa citas famosas, líneas de tiempo, imágenes. \n",
    "* 🗺️ Línea de tiempo: Guerra del Pacífico, Revolución Francesa, Caída del Imperio Romano.\n",
    "* 🎭 Historia alternativa: \"¿Qué habría pasado si...?\"\n",
    "   - Julio César no cruzara el Rubicón\n",
    "   - Napoleón ganara en Waterloo\n",
    "   - Los aztecas hubieran tenido caballos\n",
    "* 🏛️ Comparación de imperios: Romano vs Chino Han, Inca vs Azteca.\n",
    "* 📚 Reseña de libro histórico: \"Los Miserables\", \"Guerra y Paz\", \"Yo, Claudio\"\n"
   ]
  },
  {
   "cell_type": "markdown",
   "id": "e94a095e-2a4b-49cd-98c2-9b45e105aa7f",
   "metadata": {},
   "source": [
    " ### 💡 Recuerda: \n",
    "\n",
    "- 👀 Siempre revisa cómo se ve tu Markdown renderizado. \n",
    "- 📏 Los espacios y saltos de línea son importantes. \n",
    "- ⚠️ Lo que escribes no siempre es lo que obtienes. \n",
    "- 💪 Empieza con alguno de los proyectos antes mencionados en lugar de solo hacer ejercicios.¡Aprenderás mucho más rápido!"
   ]
  },
  {
   "cell_type": "markdown",
   "id": "54396aa9-39e8-4082-ab60-613d177989e5",
   "metadata": {},
   "source": [
    "### 💡 Recuerda al documentar historia:\n",
    "\n",
    "- 👀 Siempre cita tus fuentes históricas\n",
    "- 📅 Las fechas y cronologías son cruciales\n",
    "- ⚠️ Distingue entre hechos verificados e hipótesis\n",
    "- 💪 Empieza con períodos que te apasionen: ¡aprenderás mucho más rápido!\n",
    "- 🔍 Usa fuentes primarias cuando sea posible\n",
    "- 🌍 Considera múltiples perspectivas culturales de los eventos"
   ]
  }
 ],
 "metadata": {
  "kernelspec": {
   "display_name": "Python 3",
   "language": "python",
   "name": "python3"
  },
  "language_info": {
   "codemirror_mode": {
    "name": "ipython",
    "version": 3
   },
   "file_extension": ".py",
   "mimetype": "text/x-python",
   "name": "python",
   "nbconvert_exporter": "python",
   "pygments_lexer": "ipython3",
   "version": "3.8.18"
  }
 },
 "nbformat": 4,
 "nbformat_minor": 5
}
